{
 "cells": [
  {
   "cell_type": "markdown",
   "id": "cc3c65a5-c8f7-47e3-8fd2-b276b4617989",
   "metadata": {},
   "source": [
    "# Fila em Python\n",
    "\n",
    "## Implementações com lista encadeada"
   ]
  },
  {
   "cell_type": "markdown",
   "id": "0618a07d-fc4b-4461-b8f5-d16cab9650a8",
   "metadata": {},
   "source": [
    "### Criação de Estrutura:"
   ]
  },
  {
   "cell_type": "code",
   "execution_count": 16,
   "id": "d27bb8f1-a02d-44e9-8fc8-691e701f138d",
   "metadata": {},
   "outputs": [],
   "source": [
    "class No:\n",
    "    def __init__(self,valor):\n",
    "        self.info = valor # Dado Armazenado no No.\n",
    "        self.prox = None # Ponteiro para o proximo No.\n",
    "class Fila:\n",
    "    def __init__(self):\n",
    "        self.inicio = None # Indica inicio da Fila.\n",
    "        self.fim = None # Indica o fim da Fila."
   ]
  },
  {
   "cell_type": "markdown",
   "id": "03098ffa-e2eb-426f-ad0c-bcc219223643",
   "metadata": {},
   "source": [
    "## Funções Utilitarias:"
   ]
  },
  {
   "cell_type": "code",
   "execution_count": 5,
   "id": "cf78e70b-2565-4a4b-8ba9-a972ebb99ba8",
   "metadata": {},
   "outputs": [],
   "source": [
    "# Checa se Função ta Vazia\n",
    "def fila_vazia(f):\n",
    "    return f.inicio == None"
   ]
  },
  {
   "cell_type": "markdown",
   "id": "1ebd1213-e460-4313-8a3a-82e4d4c7a023",
   "metadata": {},
   "source": [
    "### Função para Inserir:"
   ]
  },
  {
   "cell_type": "code",
   "execution_count": 7,
   "id": "b593c1d2-7962-4905-bb71-f558be9e7b44",
   "metadata": {},
   "outputs": [],
   "source": [
    "def insere(f,valor):\n",
    "    novo = No(valor) # Cria um novo No\n",
    "    if fila_vazia(f):\n",
    "        f.inicio = novo\n",
    "    else:\n",
    "        f.fim.prox = novo\n",
    "    f.fim = novo\n",
    "    print(f'Elemento, \"{valor}\" Inserido')"
   ]
  },
  {
   "cell_type": "markdown",
   "id": "8e70702b-20d4-411f-87a9-e491017d76ef",
   "metadata": {},
   "source": [
    "### Função para Remover:"
   ]
  },
  {
   "cell_type": "code",
   "execution_count": 9,
   "id": "b83456fc-041f-4371-9609-db58a2fccfc3",
   "metadata": {},
   "outputs": [],
   "source": [
    "def remove(f):\n",
    "    if fila_vazia(f):\n",
    "        print(\"Fila Vazia! Nada a Remover!\")\n",
    "        return\n",
    "    aux = f.inicio\n",
    "    f.inicio = aux.prox\n",
    "    if f.inicio == None:\n",
    "        f.fim = None"
   ]
  },
  {
   "cell_type": "markdown",
   "id": "0e6d8496-d3ba-4ff1-943f-a30c35446b11",
   "metadata": {},
   "source": [
    "### Função para Liberar:"
   ]
  },
  {
   "cell_type": "code",
   "execution_count": 34,
   "id": "fae46678-7a40-46ce-8efb-91a5440b72ea",
   "metadata": {},
   "outputs": [],
   "source": [
    "def libera(f):\n",
    "    f.inicio = None\n",
    "    f.fim = None"
   ]
  },
  {
   "cell_type": "markdown",
   "id": "7df95378-65a1-47f9-bd7d-8b5c8a691e09",
   "metadata": {},
   "source": [
    "### Função Imprimir:"
   ]
  },
  {
   "cell_type": "code",
   "execution_count": 22,
   "id": "15ab7bfd-7db5-4434-8bb6-72e46fcbdced",
   "metadata": {},
   "outputs": [],
   "source": [
    "def imprimir(f):\n",
    "    if fila_vazia(f):\n",
    "        print(\"Fila Vazia! Nada a Imprimir\")\n",
    "        return\n",
    "    print(\"Fila:\", end=\" \")\n",
    "    aux = f.inicio\n",
    "    while aux is not None:\n",
    "        print(aux.info, end=\";\")\n",
    "        aux = aux.prox\n",
    "    print(\"  \")"
   ]
  },
  {
   "cell_type": "markdown",
   "id": "3dc1781f-d036-44f5-8b35-b746ccd36e8a",
   "metadata": {},
   "source": [
    "## Exemplos de Usos:\n",
    "\n"
   ]
  },
  {
   "cell_type": "code",
   "execution_count": 36,
   "id": "f031788a-28b2-4a41-882c-e9baadd21a6b",
   "metadata": {},
   "outputs": [
    {
     "name": "stdout",
     "output_type": "stream",
     "text": [
      "Elemento, \"10\" Inserido\n",
      "Elemento, \"10.1\" Inserido\n",
      "Elemento, \"10.101\" Inserido\n",
      "Elemento, \"10.101001\" Inserido\n",
      "Fila: 10;10.1;10.101;10.101001;  \n",
      "Fila: 10.1;10.101;10.101001;  \n",
      "Fila Vazia! Nada a Imprimir\n"
     ]
    }
   ],
   "source": [
    "f = Fila()\n",
    "\n",
    "insere(f,10)\n",
    "insere(f,10.10)\n",
    "insere(f,10.1010)\n",
    "insere(f,10.101001)\n",
    "\n",
    "# Imprimir\n",
    "\n",
    "imprimir(f)\n",
    "\n",
    "# Removendo da Fila\n",
    "remove(f)\n",
    "\n",
    "imprimir(f)\n",
    "\n",
    "# Liberando\n",
    "libera(f)\n",
    "imprimir(f)"
   ]
  },
  {
   "cell_type": "code",
   "execution_count": null,
   "id": "f5a9449c-5394-4c3d-9b4b-1c8020244b47",
   "metadata": {},
   "outputs": [],
   "source": []
  }
 ],
 "metadata": {
  "kernelspec": {
   "display_name": "Python 3 (ipykernel)",
   "language": "python",
   "name": "python3"
  },
  "language_info": {
   "codemirror_mode": {
    "name": "ipython",
    "version": 3
   },
   "file_extension": ".py",
   "mimetype": "text/x-python",
   "name": "python",
   "nbconvert_exporter": "python",
   "pygments_lexer": "ipython3",
   "version": "3.12.7"
  }
 },
 "nbformat": 4,
 "nbformat_minor": 5
}
