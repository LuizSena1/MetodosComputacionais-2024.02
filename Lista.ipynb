{
 "cells": [
  {
   "cell_type": "markdown",
   "id": "4c682c14-cba8-4178-b390-8d49d190486f",
   "metadata": {},
   "source": [
    "# Fila em Python\n",
    "## Implementação com Vetor"
   ]
  },
  {
   "cell_type": "code",
   "execution_count": 2,
   "id": "467c78b8-621c-4551-b0ab-fabade8b3bf3",
   "metadata": {},
   "outputs": [],
   "source": [
    "class fila:\n",
    "    def __init__(self):\n",
    "        self.N = 10 # Tamanho do Vetor.\n",
    "        self.vet = [None] * self.N # Alocando Memoria para o Vetor\n",
    "        self.inicio = 0 # Inicia o indice da fila\n",
    "        self.n_inserido = 0 # Numero de elementos na fila."
   ]
  },
  {
   "cell_type": "markdown",
   "id": "62c7b303-3b5f-4347-a061-fa5c122da668",
   "metadata": {},
   "source": [
    "### Utilitarios:"
   ]
  },
  {
   "cell_type": "code",
   "execution_count": 4,
   "id": "4e262ced-1a78-435f-8b26-8e01d2d83fc2",
   "metadata": {},
   "outputs": [],
   "source": [
    "# Verificar se a fila esta vazia\n",
    "def fila_vazia(f):\n",
    "    return f.n_inserido == 0"
   ]
  },
  {
   "cell_type": "markdown",
   "id": "013eddcc-65bb-41a3-adc7-bb36fefb99eb",
   "metadata": {},
   "source": [
    "## Função para inserir"
   ]
  },
  {
   "cell_type": "code",
   "execution_count": 6,
   "id": "7ea288bf-bb91-401a-bfe5-82aada0b362c",
   "metadata": {},
   "outputs": [],
   "source": [
    "def insere(f,valor):\n",
    "    if f.n_inserido >= f.N:\n",
    "        print(\"Fila Cheia! Elemento não inserido!\")\n",
    "        return\n",
    "    fim = (f.inicio + f.n_inserido) % f.N # Atualizar o indice \n",
    "    f.vet[fim] = valor # inserindo o Elemento\n",
    "    f.n_inserido += 1   # incrementa o contador da fila\n",
    "    "
   ]
  },
  {
   "cell_type": "markdown",
   "id": "9cbe7cd8-dad1-4e93-8781-7daa9704576c",
   "metadata": {},
   "source": [
    "### Função para remover"
   ]
  },
  {
   "cell_type": "code",
   "execution_count": 8,
   "id": "ce52166d-d6a5-49f3-99fd-6f6daba1aa3e",
   "metadata": {},
   "outputs": [],
   "source": [
    "def remove(f):\n",
    "    if fila_vazia(f):\n",
    "        print(\"Fila Vazia! Nenhum elemento a remover\")\n",
    "        return\n",
    "    if f.inicio == f.N - 1:\n",
    "        f.inicio = 0\n",
    "    else:\n",
    "        f.inicio += 1\n",
    "        f.n_inserido -= 1"
   ]
  },
  {
   "cell_type": "markdown",
   "id": "2fd1a6a2-8586-4cea-9ac9-c72c8ca944c3",
   "metadata": {},
   "source": [
    "### Função Imprimir:"
   ]
  },
  {
   "cell_type": "code",
   "execution_count": 10,
   "id": "b6186406-f732-4b70-8b97-f8536f658535",
   "metadata": {},
   "outputs": [],
   "source": [
    "def imprimir(f):\n",
    "    if fila_vazia(f):\n",
    "         print(\"Fila Vazia! Nenhum elemento a imprimir\")\n",
    "         return\n",
    "    for i in range(f.n_inserido):\n",
    "        print(f.vet[(f.inicio + i)%f.N], end = \" \")"
   ]
  },
  {
   "cell_type": "markdown",
   "id": "1027cdcd-7944-4391-978f-bd481ea5bceb",
   "metadata": {},
   "source": [
    "### Função libera:"
   ]
  },
  {
   "cell_type": "code",
   "execution_count": 12,
   "id": "817eb63c-3d06-4ef0-807b-ba35d1feddc4",
   "metadata": {},
   "outputs": [],
   "source": [
    "def libera_fila(f):\n",
    "    f.vet = [None] * f.N # Limpar o Vetor\n",
    "    f.incio = None\n",
    "    f.n_inserido = None"
   ]
  },
  {
   "cell_type": "markdown",
   "id": "7dcf9c07-2f78-4337-b0fa-7d59e14bae86",
   "metadata": {},
   "source": [
    "### Teste de Funcionalidade:"
   ]
  },
  {
   "cell_type": "code",
   "execution_count": 14,
   "id": "bc80e9b7-3a6a-4dc4-8b38-88ebddb70291",
   "metadata": {},
   "outputs": [
    {
     "name": "stdout",
     "output_type": "stream",
     "text": [
      "10 20 30 "
     ]
    }
   ],
   "source": [
    "f = fila()\n",
    "# Inserir:\n",
    "insere(f,10)\n",
    "insere(f,20)\n",
    "insere(f,30)\n",
    "\n",
    "# Imprimir:\n",
    "imprimir(f)"
   ]
  },
  {
   "cell_type": "code",
   "execution_count": 38,
   "id": "4c01caf6-171f-4d0e-b07f-1340757d6b82",
   "metadata": {},
   "outputs": [
    {
     "name": "stdout",
     "output_type": "stream",
     "text": [
      "Fila Vazia! Nenhum elemento a remover\n",
      "Fila Vazia! Nenhum elemento a imprimir\n"
     ]
    }
   ],
   "source": [
    "remove(f)\n",
    "imprimir(f)"
   ]
  }
 ],
 "metadata": {
  "kernelspec": {
   "display_name": "Python 3 (ipykernel)",
   "language": "python",
   "name": "python3"
  },
  "language_info": {
   "codemirror_mode": {
    "name": "ipython",
    "version": 3
   },
   "file_extension": ".py",
   "mimetype": "text/x-python",
   "name": "python",
   "nbconvert_exporter": "python",
   "pygments_lexer": "ipython3",
   "version": "3.12.7"
  }
 },
 "nbformat": 4,
 "nbformat_minor": 5
}
