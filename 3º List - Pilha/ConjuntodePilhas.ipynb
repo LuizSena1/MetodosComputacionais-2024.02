{
 "cells": [
  {
   "cell_type": "markdown",
   "metadata": {},
   "source": [
    "# Objetivo\n",
    "\n",
    "Um conjunto de Pilhas, basicamente eu preciso de uma classe pilha, seguido de uma classe conjuntopil.\n",
    "\n",
    "## Como isso deve funcionar:\n",
    "\n",
    "Eu crio pilhas com um valor maximo de tamanho(10), e um conjunto de pilhas que ira usar o push, pop. Com a mudança sendo... Conjunto de pilhas, quando a pilha atingir o seu valor maximo, ela cria outra pilha. \n",
    "\n",
    "## Conjunto de Pilha:\n",
    "Conjunto de pilhas sera composta por varias pilhas, que em si, possuiram seu valores. E ira criar pilhas novas sempre que a atual atingir seu limite.\n",
    "As funções de pilha, serão chamadas dentro do conjunto, e o conjunto ira agir como um limtiador."
   ]
  },
  {
   "cell_type": "markdown",
   "metadata": {},
   "source": [
    "# Criando Classe Nó\n",
    "Apenas para facilitar a vida"
   ]
  },
  {
   "cell_type": "code",
   "execution_count": null,
   "metadata": {},
   "outputs": [
    {
     "ename": "",
     "evalue": "",
     "output_type": "error",
     "traceback": [
      "\u001b[1;31mRunning cells with 'Python 3.12.3' requires the ipykernel package.\n",
      "\u001b[1;31mRun the following command to install 'ipykernel' into the Python environment. \n",
      "\u001b[1;31mCommand: '/bin/python3 -m pip install ipykernel -U --user --force-reinstall'"
     ]
    }
   ],
   "source": [
    "class node:\n",
    "    def __init__(self,info):\n",
    "        self.info = info\n",
    "        self.prox = None      "
   ]
  },
  {
   "cell_type": "markdown",
   "metadata": {},
   "source": [
    "# Criando a Pilha primeiramente."
   ]
  },
  {
   "cell_type": "code",
   "execution_count": null,
   "metadata": {},
   "outputs": [],
   "source": [
    "class pilha:\n",
    "    def __init__(self,maxsize = 10):\n",
    "        self.top = None\n",
    "        self.maxsize = maxsize\n",
    "        self.size = 0\n",
    "    \n",
    "    def empty(self):\n",
    "        return self.top is None\n",
    "\n",
    "    def push(self,valor):\n",
    "        if self.size >= self.maxsize:\n",
    "            return print(\"A pilha atingiu o tamanho máximo\")\n",
    "        n_no = node(valor)\n",
    "        n_no.prox = self.top\n",
    "        self.top = n_no\n",
    "        self.size += 1 # Aumenta o tamanho\n",
    "    \n",
    "    def pop(self):\n",
    "        if self.empty():\n",
    "            return print(\"Pilha Vazia\")\n",
    "        no = self.top\n",
    "        self.top = self.top.prox\n",
    "        self.size -= 1 # Diminui tamanho\n",
    "        return no.info\n",
    "    \n",
    "    def peek(self): # Mostra qual o elemento no Topo da Pilha.\n",
    "        if self.empty():\n",
    "            return print(\"Pilha Vazia!\")\n",
    "        return self.top.info"
   ]
  },
  {
   "cell_type": "markdown",
   "metadata": {},
   "source": [
    "## Conjunto de Pilhas:\n",
    "Com a pilha feita, falta apenas criar o conjunto de pilhas, para isso, sera simples. Usando a mesma logica vista anteriormente, porem usando as pilhas e suas funções, e armazenando as pilhas em si."
   ]
  },
  {
   "cell_type": "code",
   "execution_count": null,
   "metadata": {},
   "outputs": [],
   "source": [
    "class conjuntopil:\n",
    "    def __init__(self,maxse):\n",
    "        self.maxse = 10\n",
    "        self.fpil = None # Para armazenar as pilhas.\n",
    "    \n",
    "    def empty(self):\n",
    "        return self.fpil is None\n",
    "\n",
    "    def push(self,valor):\n",
    "        if self.empty():\n",
    "            npil = pilha(self.maxse)\n",
    "            npil.push(valor)\n",
    "\n",
    "            npil.prox = self.fpil\n",
    "            self.fpil = npil\n",
    "        else:\n",
    "            self.fpil.push(valor)\n",
    "\n",
    "    def pop(self):\n",
    "        if self.empty():\n",
    "            return print(\"Conjunto Vazio\")\n",
    "        aux = self.fpil.pop()\n",
    "\n",
    "        if self.fpil.empty():\n",
    "            self.fpil = self.fpil.prox\n",
    "        \n",
    "        return aux\n",
    "\n",
    "    def peek(self):\n",
    "        if self.empty():\n",
    "            return print(\"Conjunto Vazio\")\n",
    "        val = self.fpil.peek()\n",
    "        return val\n",
    "        \n",
    "    "
   ]
  }
 ],
 "metadata": {
  "kernelspec": {
   "display_name": "Python 3",
   "language": "python",
   "name": "python3"
  },
  "language_info": {
   "name": "python",
   "version": "3.12.3"
  }
 },
 "nbformat": 4,
 "nbformat_minor": 2
}
